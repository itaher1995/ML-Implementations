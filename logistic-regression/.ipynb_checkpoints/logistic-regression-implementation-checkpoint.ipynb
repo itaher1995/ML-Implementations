{
 "cells": [
  {
   "cell_type": "code",
   "execution_count": 7,
   "metadata": {
    "collapsed": true
   },
   "outputs": [],
   "source": [
    "from scipy.io import loadmat\n",
    "import numpy as np\n",
    "import random\n",
    "import itertools\n",
    "import matplotlib.pyplot as plt\n",
    "%matplotlib inline"
   ]
  },
  {
   "cell_type": "code",
   "execution_count": 8,
   "metadata": {
    "collapsed": true
   },
   "outputs": [],
   "source": [
    "_,_,_,X_trn_data1, X_tst_data1, Y_trn_data1, Y_tst_data1 = loadmat('data/data1.mat').values()\n",
    "_,_,_,X_trn_data2, X_tst_data2, Y_trn_data2, Y_tst_data2 = loadmat('data/data2.mat').values()"
   ]
  },
  {
   "cell_type": "markdown",
   "metadata": {},
   "source": [
    "## Logistic Function Classifier"
   ]
  },
  {
   "cell_type": "code",
   "execution_count": 9,
   "metadata": {
    "collapsed": true
   },
   "outputs": [],
   "source": [
    "#Logistic Regression\n",
    "class LogisticRegression():\n",
    "    '''\n",
    "    Implementation of the logistic regression classifier algorithm. Minimizes the loss function using via gradient descent.\n",
    "    By default uses regularization.\n",
    "    '''\n",
    "    def __init__(self):\n",
    "        return None\n",
    "    \n",
    "    def train(self,X,Y,eta,m,lambda_):\n",
    "        '''\n",
    "        Training function. \n",
    "        Trains the classifier via gradient descent. Depending on m it can stochastic, mini-batch or gradient descent.\n",
    "        '''\n",
    "        X_copy = np.copy(X) #create a copy of the data\n",
    "        X_copy = np.array([np.append(x,[1]) for x in X_copy])\n",
    "        for i in range(len(X_copy[0])):\n",
    "            #for all col i in X get the mean and standard deviation\n",
    "            col=np.array([[X_copy[j][i]] for j in range(len(X_copy))])\n",
    "            col_mean=np.mean(col) \n",
    "            col_std = np.std(col)\n",
    "            for j in range(len(X_copy)):\n",
    "                if col_std!=0:\n",
    "                    X_copy[j][i]=(X_copy[j][i]-col_mean)/col_std #scale data to prevent theta overflow\n",
    "        \n",
    "        epsilon = 10**-3 #arbitarily chosen small number e << 1\n",
    "        theta = np.array(np.array([np.array([float(0)])]*len(X_copy[0]))) #hard start at zero vector\n",
    "        gradient = np.array(np.array([np.array([10])]*len(X_copy[0]))) #large gradient initialized so that while loop will always start\n",
    "        while np.sum(gradient)>=epsilon: #until gradient < epsilon\n",
    "            m_indices = random.sample(range(len(X_copy)),m)\n",
    "            gradient = np.reshape(np.array(eta*np.sum(np.array([X_copy[i]*(Y[i]-(1/(1+np.exp(np.dot(-theta.T,X_copy[i]))))) - lambda_*2*np.sum(theta) for i in m_indices]),axis=0)),newshape=(3,1))\n",
    "            theta += gradient\n",
    "        return theta\n",
    "\n",
    "    def test(self,X,theta):\n",
    "        '''\n",
    "        Testing function. Takes the vector theta and computes dot product of theta and test set.\n",
    "        The resulting vector is a probability vector where if the values are greater than 0 its 1 and if its less than 0 its -1.\n",
    "        Using that knowledge we output a prediction vector of 1s and 0s.\n",
    "        '''\n",
    "        X_copy = np.copy(X) #create a copy of the data\n",
    "        X_copy = np.array([np.append(x,[1]) for x in X_copy])\n",
    "        for i in range(len(X_copy[0])):\n",
    "            #for all col i in X get the mean and standard deviation\n",
    "            col=np.array([[X_copy[j][i]] for j in range(len(X_copy))])\n",
    "            col_mean=np.mean(col) \n",
    "            col_std = np.std(col)\n",
    "            for j in range(len(X_copy)):\n",
    "                if col_std!=0:\n",
    "                    X_copy[j][i]=(X_copy[j][i]-col_mean)/col_std #scale data to prevent theta overflow\n",
    "                else:\n",
    "                    X_copy[j][i]-(X_copy[j][i]-col_mean)\n",
    "        y_prob = np.dot(X_copy,theta)\n",
    "        y_pred = np.array([[1 if p>0 else 0 for p in x] for x in y_prob])\n",
    "        return y_pred"
   ]
  },
  {
   "cell_type": "markdown",
   "metadata": {},
   "source": [
    "## Functions"
   ]
  },
  {
   "cell_type": "code",
   "execution_count": 13,
   "metadata": {
    "collapsed": true
   },
   "outputs": [],
   "source": [
    "#classification error\n",
    "def classificationError(y_pred,y_true):\n",
    "    '''\n",
    "    number wrong/total number of samples'''\n",
    "    wrong = 0\n",
    "    total = len(y_true)\n",
    "    for i in range(len(y_pred)):\n",
    "        if y_pred[i]!=y_true[i]:\n",
    "            wrong+=1\n",
    "    return wrong/total \n",
    "\n",
    "#grid search\n",
    "def gridSearch(X_trn, Y_trn, X_tst, Y_tst,params):\n",
    "    '''\n",
    "    Conducts a grid search of all important parameters. Parameters is a dictionary.\n",
    "    '''\n",
    "    combinations = list(itertools.product(list(params.values())[0],list(params.values())[1]))\n",
    "    error = 1000\n",
    "    for comb in combinations: #train and test model using all combinations of hyperparameters\n",
    "        model = LogisticRegression()\n",
    "        theta = model.train(X_trn,Y_trn,comb[0],1,comb[1])\n",
    "        y_pred = model.test(X_tst,theta)\n",
    "        temp = classificationError(y_pred,Y_tst)\n",
    "        if error>= temp: #if the current error is better than previous error update best hyperparameters\n",
    "            error = temp\n",
    "            best_lambda = comb[1]\n",
    "            best_eta = comb[0]\n",
    "    return best_eta, best_lambda\n",
    "    \n",
    "\n",
    "#K Fold Cross-Validation\n",
    "def kFoldCV(k,X,Y):\n",
    "    '''\n",
    "    Function that allows for k-fold cross validation. K-fold cross validation a way to a train a classifier by \n",
    "    making k partitions of the data. Then it takes these k partitions and then for each partition, it makes that\n",
    "    a hold-out set and the rest of the data a training set. It takes the best parameters based on each partition via\n",
    "    a grid search and then gets the average of the hyperparameters.\n",
    "    '''\n",
    "    random.seed(141)\n",
    "    \n",
    "    #shuffle both X and Y\n",
    "    indices = list(range(len(X)))\n",
    "    random.shuffle(indices)\n",
    "    X_copy=np.copy(X)[indices]\n",
    "    Y_copy=np.copy(Y)[indices]\n",
    "    \n",
    "    lenPartitions = len(X_copy)//k #the size of each partition\n",
    "    best_params = []\n",
    "    for part in range(k):\n",
    "        start = part*lenPartitions\n",
    "        end = (part+1)*lenPartitions\n",
    "        holdOutIndices = list(range(start,end)) #define hold out set as set from set start to end index\n",
    "        restIndices = list(set(range(len(X_copy))).difference(set(holdOutIndices))) #anything not in the hold out set defined here\n",
    "        \n",
    "        #create hold out set and training set\n",
    "        X_train = X_copy[restIndices]\n",
    "        Y_train = Y_copy[restIndices]\n",
    "        X_test = X_copy[holdOutIndices]\n",
    "        Y_test = Y_copy[holdOutIndices]\n",
    "        \n",
    "        #update best params so that we can average of both hyperparameters\n",
    "        best_params.append(gridSearch(X_train,Y_train,X_test,Y_test,{'learning_rate':[0.01,0.02,0.03],'lambda':[.1,.2,.3]}))\n",
    "    avgEta = np.mean([x[0] for x in best_params])\n",
    "    avgLambda = np.mean([x[1] for x in best_params])\n",
    "    return avgEta, avgLambda\n",
    "\n",
    "#decision boundary\n",
    "def decisionBounary(X,theta):\n",
    "    '''\n",
    "    Plots decision boundary of classifier.\n",
    "    '''\n",
    "    plt.figure()\n",
    "    X_copy = np.copy(X) #create a copy of the data\n",
    "    X_copy = np.array([np.append(x,[1]) for x in X_copy])\n",
    "    for i in range(len(X_copy[0])):\n",
    "        #for all col i in X get the mean and standard deviation\n",
    "        col=np.array([[X_copy[j][i]] for j in range(len(X_copy))])\n",
    "        col_mean=np.mean(col) \n",
    "        col_std = np.std(col)\n",
    "        for j in range(len(X_copy)):\n",
    "            if col_std!=0:\n",
    "                X_copy[j][i]=(X_copy[j][i]-col_mean)/col_std #scale data to prevent theta overflow\n",
    "    \n",
    "    #defines classes\n",
    "    class_ = np.array([[1 if p>0 else 0 for p in x] for x in np.dot(X_copy,theta)])\n",
    "    class_ = [x[0] for x in class_]\n",
    "    \n",
    "    #if it belongs in in group one, its x and y goes in one group\n",
    "    xAxis1 = [X_copy[i][0] for i in range(len(X_copy)) if class_[i]==1]\n",
    "    yAxis1 = [X_copy[i][1] for i in range(len(X_copy)) if class_[i]==1]\n",
    "    xAxis0 = [X_copy[i][0] for i in range(len(X_copy)) if class_[i]==0]\n",
    "    yAxis0 = [X_copy[i][1] for i in range(len(X_copy)) if class_[i]==0]\n",
    "    \n",
    "    #create hyperplane wTx\n",
    "    x=np.linspace(-2,2)\n",
    "    y= -(theta[0]/theta[1])*x + (theta[2]/theta[1])\n",
    "    plt.scatter(xAxis1,yAxis1, marker='*')\n",
    "    plt.scatter(xAxis0,yAxis0,marker='+')\n",
    "    plt.plot(x,y,'k-')\n",
    "    plt.xlabel('Component 1')\n",
    "    plt.ylabel('Component 2')\n",
    "    plt.title('Decision Boundary for Logistic Regression')"
   ]
  },
  {
   "cell_type": "markdown",
   "metadata": {},
   "source": [
    "## Dataset 1 Logistic Regression"
   ]
  },
  {
   "cell_type": "code",
   "execution_count": 14,
   "metadata": {},
   "outputs": [
    {
     "name": "stdout",
     "output_type": "stream",
     "text": [
      "Classification Error:  0.0\n"
     ]
    },
    {
     "data": {
      "image/png": "[encoded data removed]",
      "text/plain": [
       "<matplotlib.figure.Figure at 0x1148b34df98>"
      ]
     },
     "metadata": {},
     "output_type": "display_data"
    }
   ],
   "source": [
    "eta,lambda_ = kFoldCV(3,X_trn_data1,Y_trn_data1)\n",
    "model = LogisticRegression()\n",
    "theta = model.train(X_trn_data1,Y_trn_data1,eta,1,lambda_)\n",
    "y_pred = model.test(X_tst_data1,theta)\n",
    "print('Classification Error: ', classificationError(y_pred,Y_tst_data1))\n",
    "decisionBounary(X_tst_data1,theta)"
   ]
  },
  {
   "cell_type": "markdown",
   "metadata": {},
   "source": [
    "## Dataset 2 Logistic Regression"
   ]
  },
  {
   "cell_type": "code",
   "execution_count": 16,
   "metadata": {},
   "outputs": [
    {
     "name": "stdout",
     "output_type": "stream",
     "text": [
      "Classification Error:  0.07142857142857142\n"
     ]
    },
    {
     "data": {
      "image/png": "[encoded data removed]",
      "text/plain": [
       "<matplotlib.figure.Figure at 0x1148b5960f0>"
      ]
     },
     "metadata": {},
     "output_type": "display_data"
    }
   ],
   "source": [
    "eta,lambda_ = kFoldCV(3,X_trn_data2,Y_trn_data2)\n",
    "model = LogisticRegression()\n",
    "theta = model.train(X_trn_data2,Y_trn_data2,eta,1,lambda_)\n",
    "y_pred = model.test(X_tst_data2,theta)\n",
    "print('Classification Error: ', classificationError(y_pred,Y_tst_data2))\n",
    "decisionBounary(X_tst_data1,theta)"
   ]
  }
 ],
 "metadata": {
  "kernelspec": {
   "display_name": "Python 3",
   "language": "python",
   "name": "python3"
  },
  "language_info": {
   "codemirror_mode": {
    "name": "ipython",
    "version": 3
   },
   "file_extension": ".py",
   "mimetype": "text/x-python",
   "name": "python",
   "nbconvert_exporter": "python",
   "pygments_lexer": "ipython3",
   "version": "3.6.3"
  }
 },
 "nbformat": 4,
 "nbformat_minor": 2
}
