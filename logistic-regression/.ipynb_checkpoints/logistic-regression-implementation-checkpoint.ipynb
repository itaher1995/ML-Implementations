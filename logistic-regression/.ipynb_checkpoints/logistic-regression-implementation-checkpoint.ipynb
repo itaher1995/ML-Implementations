{
 "cells": [
  {
   "cell_type": "code",
   "execution_count": 232,
   "metadata": {
    "collapsed": true
   },
   "outputs": [],
   "source": [
    "from scipy.io import loadmat\n",
    "import numpy as np\n",
    "import random\n",
    "import itertools\n",
    "import matplotlib.pyplot as plt\n",
    "%matplotlib inline"
   ]
  },
  {
   "cell_type": "code",
   "execution_count": 3,
   "metadata": {
    "collapsed": true
   },
   "outputs": [],
   "source": [
    "_,_,_,X_trn_data1, X_tst_data1, Y_trn_data1, Y_tst_data1 = loadmat('data/data1.mat').values()\n",
    "_,_,_,X_trn_data2, X_tst_data2, Y_trn_data2, Y_tst_data2 = loadmat('data/data2.mat').values()"
   ]
  },
  {
   "cell_type": "code",
   "execution_count": 16,
   "metadata": {},
   "outputs": [
    {
     "data": {
      "text/plain": [
       "array([[-0.21960675,  2.04150088],\n",
       "       [-0.45609595,  2.19649402],\n",
       "       [-0.13034716,  2.31263631],\n",
       "       [-0.69959617,  1.77872591],\n",
       "       [-1.18058501,  1.84663797],\n",
       "       [-0.78022195,  2.32244363],\n",
       "       [-1.24254811,  2.40930788],\n",
       "       [-0.25822186,  2.68765097],\n",
       "       [-1.88239904,  0.9940371 ],\n",
       "       [-0.69059205,  2.68696191],\n",
       "       [-1.05495953,  1.79145031],\n",
       "       [-0.7655312 ,  1.30831083],\n",
       "       [-1.21219725,  1.61894587],\n",
       "       [-1.3729345 ,  1.82506057],\n",
       "       [-1.39594678,  1.72936336],\n",
       "       [-0.55621279,  2.51395698],\n",
       "       [-0.77021839,  2.82363367],\n",
       "       [-0.73486343,  2.5674805 ],\n",
       "       [-1.95820693,  1.93780788],\n",
       "       [-0.40320066,  2.36866915],\n",
       "       [-1.44186703,  2.35285039],\n",
       "       [-0.17345247,  2.74756692],\n",
       "       [-0.81170653,  1.25389359],\n",
       "       [-1.59775015,  1.54701666],\n",
       "       [-1.95841726,  1.12652755],\n",
       "       [-0.90749799,  1.59823366],\n",
       "       [-0.80568541,  0.93823088],\n",
       "       [-1.37873673,  1.70917734],\n",
       "       [-1.29623358,  1.65251561],\n",
       "       [-1.80293458,  1.98323069],\n",
       "       [-0.96189152,  1.57962629],\n",
       "       [-0.90936488,  2.23860914],\n",
       "       [-1.00187174,  1.86503652],\n",
       "       [ 0.07079506,  2.70254602],\n",
       "       [-0.86176261,  2.32181115],\n",
       "       [-0.98442379,  2.19950172],\n",
       "       [-1.06976803,  2.02147539],\n",
       "       [-0.91534712,  2.30570055],\n",
       "       [-0.84762976,  1.6057867 ],\n",
       "       [-1.37862942,  2.16749563],\n",
       "       [-0.8878903 ,  1.16854396],\n",
       "       [-0.52452791,  0.81029941],\n",
       "       [-0.88104219,  1.9568409 ],\n",
       "       [-0.9608464 ,  1.89933613],\n",
       "       [-1.19358978,  1.97681873],\n",
       "       [-0.66310485,  1.97140121],\n",
       "       [-1.00539453,  1.65036461],\n",
       "       [-0.91403086,  2.17127347],\n",
       "       [-1.70621181,  2.22854487],\n",
       "       [-1.02761863,  1.70248289],\n",
       "       [-0.72323852,  1.78785494],\n",
       "       [-0.77513409,  1.66267022],\n",
       "       [-0.25732409,  1.94106602],\n",
       "       [-0.84697961,  2.04225853],\n",
       "       [-1.41702876,  2.27503375],\n",
       "       [-1.52281353,  2.24416876],\n",
       "       [-1.03959201,  2.3384803 ],\n",
       "       [-1.23538095,  2.01173031],\n",
       "       [-1.43283633,  1.64558363],\n",
       "       [-1.57913075,  1.32085848],\n",
       "       [-1.01385971,  1.09383377],\n",
       "       [-1.27385068,  2.34286249],\n",
       "       [-1.48560518,  1.94984853],\n",
       "       [ 0.4362074 ,  1.80834634],\n",
       "       [-0.52789606,  1.56071758],\n",
       "       [-1.65756984,  1.97459521],\n",
       "       [-0.66062121,  2.06915414],\n",
       "       [-1.47742807,  1.77380467],\n",
       "       [ 2.34969374,  0.10381577],\n",
       "       [ 0.41402907,  1.03579494],\n",
       "       [ 2.01115896, -0.28406255],\n",
       "       [ 1.91637897,  0.08840499],\n",
       "       [ 1.50042225,  0.1575679 ],\n",
       "       [ 1.5843922 ,  0.41734728],\n",
       "       [ 1.05102188, -0.47150993],\n",
       "       [ 1.03036225, -0.2967047 ],\n",
       "       [ 1.48934507, -0.34776223],\n",
       "       [ 0.81655307,  0.27165801],\n",
       "       [ 1.63810576, -0.29141562],\n",
       "       [ 0.95871544, -0.57366384],\n",
       "       [ 0.90888352, -0.65273511],\n",
       "       [ 2.5559482 ,  0.36395425],\n",
       "       [ 1.34558853, -0.4729247 ],\n",
       "       [ 0.78543137,  0.67952174],\n",
       "       [ 1.67024237, -0.63115633],\n",
       "       [ 2.53607323,  0.20848157],\n",
       "       [ 1.95861969,  0.87233396],\n",
       "       [ 0.88484319,  0.7186715 ],\n",
       "       [ 1.66189077, -0.35600359],\n",
       "       [ 2.42672699, -0.5317818 ],\n",
       "       [ 2.45365525, -0.57246322],\n",
       "       [ 0.90304596,  0.09490952],\n",
       "       [ 1.07173513,  0.03937905],\n",
       "       [ 1.28342562, -0.09468934],\n",
       "       [ 2.20529098, -0.32415191],\n",
       "       [ 1.43851698, -0.91195078],\n",
       "       [ 0.69501226,  0.23091507],\n",
       "       [ 1.57040592, -0.40034552],\n",
       "       [ 0.55887394,  0.35292891],\n",
       "       [ 1.21602343, -0.10697197],\n",
       "       [ 2.05318573, -0.65486426],\n",
       "       [ 1.96469123, -0.00717571],\n",
       "       [ 1.13789214, -0.24560085],\n",
       "       [ 1.4928368 , -0.73485791],\n",
       "       [ 2.30431987,  0.33146861],\n",
       "       [ 2.068549  ,  0.00388293],\n",
       "       [ 2.10997461, -0.533055  ],\n",
       "       [ 1.28250382,  0.85656547],\n",
       "       [ 0.83217717,  0.25274736],\n",
       "       [ 0.93254671,  0.78665736],\n",
       "       [ 2.13660962, -0.1294726 ],\n",
       "       [ 0.44979407,  0.11684594],\n",
       "       [ 2.26431306, -0.61966201],\n",
       "       [ 1.80822178, -1.09048115],\n",
       "       [ 1.66794151, -1.6438545 ],\n",
       "       [ 1.23699503, -0.66401445],\n",
       "       [ 2.63548112,  0.09145658],\n",
       "       [ 1.92287183,  0.84012738],\n",
       "       [ 0.97288231,  0.37561215],\n",
       "       [ 2.00596084,  0.65627199],\n",
       "       [ 1.85903994,  0.68857611],\n",
       "       [ 1.41301101,  0.22339378],\n",
       "       [ 1.80708314,  0.13935438],\n",
       "       [ 1.965613  ,  0.39362056],\n",
       "       [ 1.45467577, -0.02458405],\n",
       "       [ 1.58799406, -1.15864208],\n",
       "       [ 1.42876191, -0.15408283],\n",
       "       [ 1.94367399,  1.14637465],\n",
       "       [ 1.63564173, -0.15827707],\n",
       "       [ 1.49089302,  0.18525795],\n",
       "       [ 2.13917578,  0.06907554],\n",
       "       [ 1.7962233 ,  0.24664816],\n",
       "       [ 2.19268648, -0.34938586],\n",
       "       [ 1.27982061, -0.73466575],\n",
       "       [ 2.14099896, -0.14801613],\n",
       "       [ 0.87555494,  0.52251283]])"
      ]
     },
     "execution_count": 16,
     "metadata": {},
     "output_type": "execute_result"
    }
   ],
   "source": [
    "X_trn_data1"
   ]
  },
  {
   "cell_type": "markdown",
   "metadata": {},
   "source": [
    "## Logistic Function Classifier"
   ]
  },
  {
   "cell_type": "code",
   "execution_count": 278,
   "metadata": {},
   "outputs": [],
   "source": [
    "#Logistic Regression\n",
    "class LogisticRegression():\n",
    "    def __init__(self):\n",
    "        return None\n",
    "    \n",
    "    def train(self,X,Y,eta,m,lambda_):\n",
    "        X_copy = np.copy(X) #create a copy of the data\n",
    "        X_copy = np.array([np.append(x,[1]) for x in X_copy])\n",
    "        for i in range(len(X_copy[0])):\n",
    "            #for all col i in X get the mean and standard deviation\n",
    "            col=np.array([[X_copy[j][i]] for j in range(len(X_copy))])\n",
    "            col_mean=np.mean(col) \n",
    "            col_std = np.std(col)\n",
    "            for j in range(len(X_copy)):\n",
    "                if col_std!=0:\n",
    "                    X_copy[j][i]=(X_copy[j][i]-col_mean)/col_std #scale data to prevent theta overflow\n",
    "        \n",
    "        epsilon = 10**-3\n",
    "        theta = np.array(np.array([np.array([float(0)])]*len(X_copy[0])))\n",
    "        gradient = np.array(np.array([np.array([10])]*len(X_copy[0])))\n",
    "        while np.sum(gradient)>=epsilon:\n",
    "            gradient = np.reshape(np.array(eta*np.sum(np.array([X_copy[i]*(Y[i]-(1/(1+np.exp(np.dot(-theta.T,X_copy[i]))))) - lambda_*2*np.sum(theta) for i in range(len(X_copy))]),axis=0)),newshape=(3,1))\n",
    "            theta += gradient\n",
    "        return theta\n",
    "\n",
    "    def test(self,X,theta):\n",
    "        X_copy = np.copy(X) #create a copy of the data\n",
    "        X_copy = np.array([np.append(x,[1]) for x in X_copy])\n",
    "        for i in range(len(X_copy[0])):\n",
    "            #for all col i in X get the mean and standard deviation\n",
    "            col=np.array([[X_copy[j][i]] for j in range(len(X_copy))])\n",
    "            col_mean=np.mean(col) \n",
    "            col_std = np.std(col)\n",
    "            for j in range(len(X_copy)):\n",
    "                if col_std!=0:\n",
    "                    X_copy[j][i]=(X_copy[j][i]-col_mean)/col_std #scale data to prevent theta overflow\n",
    "                else:\n",
    "                    X_copy[j][i]-(X_copy[j][i]-col_mean)\n",
    "        y_prob = np.dot(X_copy,theta)\n",
    "        y_pred = np.array([[1 if p>0 else 0 for p in x] for x in y_prob])\n",
    "        return y_pred"
   ]
  },
  {
   "cell_type": "markdown",
   "metadata": {},
   "source": [
    "## Functions"
   ]
  },
  {
   "cell_type": "code",
   "execution_count": 284,
   "metadata": {},
   "outputs": [],
   "source": [
    "#classification error\n",
    "def classificationError(y_pred,y_true):\n",
    "    wrong = 0\n",
    "    total = len(y_true)\n",
    "    for i in range(len(y_pred)):\n",
    "        if y_pred[i]!=y_true[i]:\n",
    "            wrong+=1\n",
    "    return wrong/total\n",
    "\n",
    "#grid search\n",
    "def gridSearch(X_trn, Y_trn, X_tst, Y_tst,params):\n",
    "    combinations = list(itertools.product(list(params.values())[0],list(params.values())[1]))\n",
    "    error = 1000\n",
    "    for comb in combinations:\n",
    "        model = LogisticRegression()\n",
    "        theta = model.train(X_trn,Y_trn,comb[0],_,comb[1])\n",
    "        y_pred = model.test(X_tst,theta)\n",
    "        temp = classificationError(y_pred,Y_tst)\n",
    "        if error>= temp:\n",
    "            error = temp\n",
    "            best_lambda = comb[1]\n",
    "            best_eta = comb[0]\n",
    "    return best_eta, best_lambda\n",
    "    \n",
    "\n",
    "#K Fold Cross-Validation\n",
    "def kFoldCV(k,X,Y):\n",
    "    random.seed(141)\n",
    "    indices = list(range(len(X)))\n",
    "    random.shuffle(indices)\n",
    "    X_copy=np.copy(X)[indices]\n",
    "    Y_copy=np.copy(Y)[indices]\n",
    "    lenPartitions = len(X_copy)//k\n",
    "    best_params = []\n",
    "    for part in range(k):\n",
    "        start = part*lenPartitions\n",
    "        end = (part+1)*lenPartitions\n",
    "        holdOutIndices = list(range(start,end)) \n",
    "        restIndices = list(set(range(len(X_copy))).difference(set(holdOutIndices)))\n",
    "        X_train = X_copy[restIndices]\n",
    "        Y_train = Y_copy[restIndices]\n",
    "        X_test = X_copy[holdOutIndices]\n",
    "        Y_test = Y_copy[holdOutIndices]\n",
    "        best_params.append(gridSearch(X_train,Y_train,X_test,Y_test,{'learning_rate':[0.01,0.02,0.03],'lambda':[.1,.2,.3]}))\n",
    "    avgEta = np.mean([x[0] for x in best_params])\n",
    "    avgLambda = np.mean([x[1] for x in best_params])\n",
    "    return avgEta, avgLambda\n",
    "\n",
    "#decision boundary\n",
    "def decisionBounary(X,theta):\n",
    "    plt.figure()\n",
    "    X_copy = np.copy(X) #create a copy of the data\n",
    "    X_copy = np.array([np.append(x,[1]) for x in X_copy])\n",
    "    for i in range(len(X_copy[0])):\n",
    "        #for all col i in X get the mean and standard deviation\n",
    "        col=np.array([[X_copy[j][i]] for j in range(len(X_copy))])\n",
    "        col_mean=np.mean(col) \n",
    "        col_std = np.std(col)\n",
    "        for j in range(len(X_copy)):\n",
    "            if col_std!=0:\n",
    "                X_copy[j][i]=(X_copy[j][i]-col_mean)/col_std #scale data to prevent theta overflow\n",
    "    class_ = np.array([[1 if p>0 else 0 for p in x] for x in np.dot(X_copy,theta)])\n",
    "    class_ = [x[0] for x in class_]\n",
    "    xAxis1 = [X_copy[i][0] for i in range(len(X_copy)) if class_[i]==1]\n",
    "    yAxis1 = [X_copy[i][1] for i in range(len(X_copy)) if class_[i]==1]\n",
    "    xAxis0 = [X_copy[i][0] for i in range(len(X_copy)) if class_[i]==0]\n",
    "    yAxis0 = [X_copy[i][1] for i in range(len(X_copy)) if class_[i]==0]\n",
    "    x=np.linspace(-2,2)\n",
    "    y= -(theta[0]/theta[1])*x + (theta[2]/theta[1])\n",
    "    plt.scatter(xAxis1,yAxis1, marker='*')\n",
    "    plt.scatter(xAxis0,yAxis0,marker='+')\n",
    "    plt.plot(x,y,'k-')\n",
    "    plt.xlabel('Component 1')\n",
    "    plt.ylabel('Component 2')\n",
    "    plt.title('Decision Boundary for Logistic Regression')"
   ]
  },
  {
   "cell_type": "markdown",
   "metadata": {},
   "source": [
    "## Dataset 1 Logistic Regression"
   ]
  },
  {
   "cell_type": "code",
   "execution_count": 286,
   "metadata": {},
   "outputs": [
    {
     "name": "stdout",
     "output_type": "stream",
     "text": [
      "Classification Error:  0.0\n"
     ]
    },
    {
     "data": {
      "image/png": "[encoded data removed]",
      "text/plain": [
       "<matplotlib.figure.Figure at 0x265dd7ca630>"
      ]
     },
     "metadata": {},
     "output_type": "display_data"
    }
   ],
   "source": [
    "eta,lambda_ = kFoldCV(3,X_trn_data1,Y_trn_data1)\n",
    "model = LogisticRegression()\n",
    "theta = model.train(X_trn_data1,Y_trn_data1,eta,_,lambda_)\n",
    "y_pred = model.test(X_tst_data1,theta)\n",
    "print('Classification Error: ', classificationError(y_pred,Y_tst_data1))\n",
    "decisionBounary(X_tst_data1,theta)"
   ]
  },
  {
   "cell_type": "markdown",
   "metadata": {},
   "source": [
    "## Dataset 2 Logistic Regression"
   ]
  },
  {
   "cell_type": "code",
   "execution_count": 288,
   "metadata": {},
   "outputs": [
    {
     "name": "stdout",
     "output_type": "stream",
     "text": [
      "Classification Error:  0.07142857142857142\n"
     ]
    },
    {
     "data": {
      "image/png": "[encoded data removed]",
      "text/plain": [
       "<matplotlib.figure.Figure at 0x265ddc27c50>"
      ]
     },
     "metadata": {},
     "output_type": "display_data"
    }
   ],
   "source": [
    "eta,lambda_ = kFoldCV(3,X_trn_data2,Y_trn_data2)\n",
    "model = LogisticRegression()\n",
    "theta = model.train(X_trn_data2,Y_trn_data2,eta,_,lambda_)\n",
    "y_pred = model.test(X_tst_data2,theta)\n",
    "print('Classification Error: ', classificationError(y_pred,Y_tst_data2))\n",
    "decisionBounary(X_tst_data1,theta)"
   ]
  }
 ],
 "metadata": {
  "kernelspec": {
   "display_name": "Python 3",
   "language": "python",
   "name": "python3"
  },
  "language_info": {
   "codemirror_mode": {
    "name": "ipython",
    "version": 3
   },
   "file_extension": ".py",
   "mimetype": "text/x-python",
   "name": "python",
   "nbconvert_exporter": "python",
   "pygments_lexer": "ipython3",
   "version": "3.6.3"
  }
 },
 "nbformat": 4,
 "nbformat_minor": 2
}
