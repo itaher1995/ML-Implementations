{
 "cells": [
  {
   "cell_type": "code",
   "execution_count": 1,
   "metadata": {
    "collapsed": true
   },
   "outputs": [],
   "source": [
    "from scipy.io import loadmat\n",
    "import numpy as np\n",
    "import random\n",
    "import itertools\n",
    "import matplotlib.pyplot as plt\n",
    "from sklearn.svm import SVC\n",
    "%matplotlib inline"
   ]
  },
  {
   "cell_type": "code",
   "execution_count": 3,
   "metadata": {},
   "outputs": [],
   "source": [
    "_,_,_,X_trn_data1, X_tst_data1, Y_trn_data1, Y_tst_data1 = loadmat('data/data1.mat').values()\n",
    "_,_,_,X_trn_data2, X_tst_data2, Y_trn_data2, Y_tst_data2 = loadmat('data/data2.mat').values()"
   ]
  },
  {
   "cell_type": "markdown",
   "metadata": {},
   "source": [
    "### SVM Implementation -- SMO"
   ]
  },
  {
   "cell_type": "code",
   "execution_count": 4,
   "metadata": {
    "collapsed": true
   },
   "outputs": [],
   "source": [
    "class SimplifiedSMO():\n",
    "    def __init__(self):\n",
    "        return None\n",
    "    def __COMPUTEERROR__(self,X,Y,alpha,i,b):\n",
    "        f_xi = sum([(alpha[j]*Y[j]*np.dot(X[j].T,X[i])) for j in range(len(X))])+b\n",
    "        error = f_xi-Y[i]\n",
    "        return error\n",
    "    def train(self,X,Y,maxPasses,C,tol):\n",
    "        Y_new=np.array([np.array([x]) if x==1 else -1 for x in Y])#algorithm only works with 1 and -1\n",
    "        #normalize data\n",
    "        X_copy = np.copy(X) #create a copy of the data\n",
    "        for i in range(len(X_copy[0])):\n",
    "            #for all col i in X get the mean and standard deviation\n",
    "            col=np.array([[X_copy[j][i]] for j in range(len(X_copy))])\n",
    "            col_mean=np.mean(col) \n",
    "            col_std = np.std(col)\n",
    "            for j in range(len(X_copy)):\n",
    "                if col_std!=0:\n",
    "                    X_copy[j][i]=(X_copy[j][i]-col_mean)/col_std #scale data to prevent theta overflow\n",
    "                else:\n",
    "                    X_copy[j][i]-(X_copy[j][i]-col_mean)\n",
    "        \n",
    "        #SMO Algorithm\n",
    "        alphaVector = np.array([0]*len(X_copy))#initialize all 0\n",
    "        b = 0\n",
    "        passes = 0\n",
    "        while passes < maxPasses:\n",
    "            num_changed_alphas = 0\n",
    "            for i in range(len(X_copy)):\n",
    "                Error_i =self.__COMPUTEERROR__(X_copy,Y_new,alphaVector,i,b)#E_i = f(x_i) - y_i\n",
    "                if (Y_new[i]*Error_i<-tol and alphaVector[i]<C) or (Y_new[i]*Error_i>tol and alphaVector[i]>0):\n",
    "                    j = random.choice([j for j in range(len(X_copy)) if j!=i])\n",
    "                    Error_j =self.__COMPUTEERROR__(X_copy,Y_new,alphaVector,j,b)\n",
    "                    \n",
    "                    #set to old variable for operations later\n",
    "                    alpha_iOld = alphaVector[i]\n",
    "                    alpha_jOld = alphaVector[j]\n",
    "                    \n",
    "                    #setting upper and lower bounds\n",
    "                    if Y_new[i]==Y_new[j]:\n",
    "                        L = max(0,alphaVector[i]+alphaVector[j]-C)\n",
    "                        H = min(C, alphaVector[i]+alphaVector[j])\n",
    "                    else:\n",
    "                        L = max(0,alphaVector[j]-alphaVector[i])\n",
    "                        H = min(C, C+alphaVector[j]-alphaVector[i])\n",
    "                    if L==H:\n",
    "                        continue\n",
    "                    eta = (2*np.dot(X_copy[i].T,X_copy[j])) - np.dot(X_copy[i].T,X_copy[i]) - np.dot(X_copy[j].T,X_copy[j])\n",
    "                    if eta >= 0:#we want eta to be negative\n",
    "                        continue\n",
    "                    alpha_j = alphaVector[j] - ((Y_new[j]*(Error_i-Error_j))/eta) #alpha_j may be set to alphaVector[j]\n",
    "                    if alpha_j>H:\n",
    "                        alphaVector[j]=H\n",
    "                    elif alpha_j<L:\n",
    "                        alphaVector[j]=L\n",
    "                    else:\n",
    "                        alphaVector[j]=alpha_j\n",
    "                    if np.abs(alphaVector[j]-alpha_jOld)<10**-5:\n",
    "                        continue\n",
    "                    alphaVector[i]=alphaVector[i] + (Y_new[i]*Y_new[j] * (alpha_jOld - alphaVector[j]))\n",
    "                    b_1 = b - Error_i - Y_new[i]*(alphaVector[i]-alpha_iOld)*np.dot(X_copy[i].T,X_copy[i]) - Y_new[j]*(alphaVector[j]-alpha_jOld)*np.dot(X_copy[i].T,X_copy[j])\n",
    "                    b_2 = b - Error_j - Y_new[i]*(alphaVector[i]-alpha_iOld)*np.dot(X_copy[i].T,X_copy[j]) - Y_new[j]*(alphaVector[j]-alpha_jOld)*np.dot(X_copy[j].T,X_copy[j])\n",
    "\n",
    "                    if 0<alphaVector[i]<C:\n",
    "                        b = b_1\n",
    "                    elif 0<alphaVector[j]<C:\n",
    "                        b = b_2\n",
    "                    else:\n",
    "                        b = (b_1+b_2)/2\n",
    "                    num_changed_alphas+=1\n",
    "            if num_changed_alphas==0:\n",
    "                passes+=1\n",
    "            else:\n",
    "                passes=0\n",
    "        w = np.sum(np.array([alphaVector[i]*Y_new[i]*X_copy[i] for i in range(len(X_copy))]),axis=0)\n",
    "        return np.reshape(w,newshape=(2,1)), b\n",
    "    def test(self,X,w,b):\n",
    "        X_copy = np.copy(X) #create a copy of the data\n",
    "        for i in range(len(X_copy[0])):\n",
    "            #for all col i in X get the mean and standard deviation\n",
    "            col=np.array([[X_copy[j][i]] for j in range(len(X_copy))])\n",
    "            col_mean=np.mean(col) \n",
    "            col_std = np.std(col)\n",
    "            for j in range(len(X_copy)):\n",
    "                if col_std!=0:\n",
    "                    X_copy[j][i]=(X_copy[j][i]-col_mean)/col_std #scale data to prevent theta overflow\n",
    "                else:\n",
    "                    X_copy[j][i]-(X_copy[j][i]-col_mean)\n",
    "        y_hyper = np.dot(X_copy,w)+b\n",
    "        y_pred = [1 if x>0 else 0 for x in y_hyper]\n",
    "        return y_pred"
   ]
  },
  {
   "cell_type": "markdown",
   "metadata": {},
   "source": [
    "### Helper Functions"
   ]
  },
  {
   "cell_type": "code",
   "execution_count": 5,
   "metadata": {
    "collapsed": true
   },
   "outputs": [],
   "source": [
    "#classification error\n",
    "def classificationError(y_pred,y_true):\n",
    "    '''\n",
    "    number wrong/total number of samples'''\n",
    "    wrong = 0\n",
    "    total = len(y_true)\n",
    "    for i in range(len(y_pred)):\n",
    "        if y_pred[i]!=y_true[i]:\n",
    "            wrong+=1\n",
    "    return wrong/total \n",
    "\n",
    "#grid search for SVM\n",
    "def gridSearchSMO(X_trn, Y_trn, X_tst, Y_tst,params):\n",
    "    '''\n",
    "    Conducts a grid search of all important parameters. Parameters is a dictionary.\n",
    "    '''\n",
    "    error = 1000\n",
    "    for param in params: #train and test model using all combinations of hyperparameters\n",
    "        for v in params[param]:\n",
    "            model = SimplifiedSMO()\n",
    "            w,b = model.train(X_trn,Y_trn,100,v,0.001)\n",
    "            y_pred = model.test(X_tst,w,b)\n",
    "            temp = classificationError(y_pred,Y_tst)\n",
    "            if error> temp: #if the current error is better than previous error update best hyperparameters\n",
    "                error = temp\n",
    "                best_C = v\n",
    "    return best_C\n",
    "\n",
    "#k fold for SMO\n",
    "def kFoldCVSMO(k,X,Y):\n",
    "    '''\n",
    "    Function that allows for k-fold cross validation. K-fold cross validation a way to a train a classifier by \n",
    "    making k partitions of the data. Then it takes these k partitions and then for each partition, it makes that\n",
    "    a hold-out set and the rest of the data a training set. It takes the best parameters based on each partition via\n",
    "    a grid search and then gets the average of the hyperparameters.\n",
    "    '''\n",
    "    random.seed(141)\n",
    "    \n",
    "    #shuffle both X and Y\n",
    "    indices = list(range(len(X)))\n",
    "    random.shuffle(indices)\n",
    "    X_copy=np.copy(X)[indices]\n",
    "    Y_copy=np.copy(Y)[indices]\n",
    "    \n",
    "    lenPartitions = len(X_copy)//k #the size of each partition\n",
    "    best_params = []\n",
    "    for part in range(k):\n",
    "        start = part*lenPartitions\n",
    "        end = (part+1)*lenPartitions\n",
    "        holdOutIndices = list(range(start,end)) #define hold out set as set from set start to end index\n",
    "        restIndices = list(set(range(len(X_copy))).difference(set(holdOutIndices))) #anything not in the hold out set defined here\n",
    "        \n",
    "        #create hold out set and training set\n",
    "        X_train = X_copy[restIndices]\n",
    "        Y_train = Y_copy[restIndices]\n",
    "        X_test = X_copy[holdOutIndices]\n",
    "        Y_test = Y_copy[holdOutIndices]\n",
    "        \n",
    "        #update best params so that we can average of both hyperparameters\n",
    "        best_params.append(gridSearchSMO(X_train,Y_train,X_test,Y_test,{'C':[1,2,3]}))\n",
    "    avgC = np.mean([x for x in best_params])\n",
    "    return avgC\n",
    "\n",
    "#plot effect of C\n",
    "def effectOfC(X_trn,Y_trn,X_tst,Y_tst,C_list):\n",
    "    trainError = []\n",
    "    testError = []\n",
    "    for C in C_list:\n",
    "        model = SimplifiedSMO()\n",
    "        w,b = model.train(X_trn,Y_trn,100,C,0.001)\n",
    "        y_pred_train = model.test(X_trn,w,b)\n",
    "        y_pred = model.test(X_tst,w,b)\n",
    "        trainError.append(classificationError(y_pred_train,Y_trn))\n",
    "        testError.append(classificationError(y_pred,Y_tst))\n",
    "        print(C)\n",
    "    f, axarr = plt.subplots(2,sharex=True)\n",
    "    f.suptitle('Effects of Regularization Constant C on Error')\n",
    "    axarr[0].plot(C_list,trainError,label='train')\n",
    "    axarr[0].legend()\n",
    "    axarr[1].plot(C_list,testError,label='test')\n",
    "    axarr[1].legend()\n",
    "    f.text(0.5, 0, 'C', ha='center')\n",
    "    f.text(0, 0.5, 'Classification Error', va='center', rotation='vertical')\n",
    "\n",
    "def effectOfC_RealSVM(X_trn,Y_trn,X_tst,Y_tst,C_list):\n",
    "    trainError = []\n",
    "    testError = []\n",
    "    for C in C_list:\n",
    "        model = SVC(kernel='linear',C=C)\n",
    "        model.fit(X_trn,Y_trn)\n",
    "        y_pred_train = model.predict(X_trn)\n",
    "        y_pred = model.predict(X_tst)\n",
    "        trainError.append(classificationError(y_pred_train,Y_trn))\n",
    "        testError.append(classificationError(y_pred,Y_tst))\n",
    "        print(C)\n",
    "    f, axarr = plt.subplots(2,sharex=True)\n",
    "    f.suptitle('Effects of Regularization Constant C on Error (sklearn)')\n",
    "    axarr[0].plot(C_list,trainError,label='train')\n",
    "    axarr[0].legend()\n",
    "    axarr[1].plot(C_list,testError,label='test')\n",
    "    axarr[1].legend()\n",
    "    f.text(0.5, 0, 'C', ha='center')\n",
    "    f.text(0, 0.5, 'Classification Error', va='center', rotation='vertical')"
   ]
  },
  {
   "cell_type": "markdown",
   "metadata": {},
   "source": [
    "### Dataset 1"
   ]
  },
  {
   "cell_type": "code",
   "execution_count": 6,
   "metadata": {},
   "outputs": [
    {
     "data": {
      "text/plain": [
       "0.0"
      ]
     },
     "execution_count": 6,
     "metadata": {},
     "output_type": "execute_result"
    }
   ],
   "source": [
    "model = SimplifiedSMO()\n",
    "w,b = model.train(X_trn_data1,Y_trn_data1,100,1,0.001)\n",
    "y_pred = model.test(X_tst_data1,w,b)\n",
    "classificationError(y_pred,Y_tst_data1)"
   ]
  },
  {
   "cell_type": "code",
   "execution_count": 7,
   "metadata": {},
   "outputs": [
    {
     "data": {
      "text/plain": [
       "0.0"
      ]
     },
     "execution_count": 7,
     "metadata": {},
     "output_type": "execute_result"
    }
   ],
   "source": [
    "C = kFoldCVSMO(3,X_trn_data1,Y_trn_data1)\n",
    "model = SimplifiedSMO()\n",
    "w,b = model.train(X_trn_data1,Y_trn_data1,100,C,0.001)\n",
    "y_pred = model.test(X_tst_data1,w,b)\n",
    "classificationError(y_pred,Y_tst_data1)"
   ]
  },
  {
   "cell_type": "code",
   "execution_count": 8,
   "metadata": {},
   "outputs": [
    {
     "name": "stdout",
     "output_type": "stream",
     "text": [
      "SVC(C=1.0, cache_size=200, class_weight=None, coef0=0.0,\n",
      "  decision_function_shape='ovr', degree=3, gamma='auto', kernel='linear',\n",
      "  max_iter=-1, probability=False, random_state=None, shrinking=True,\n",
      "  tol=0.001, verbose=False)\n"
     ]
    },
    {
     "name": "stderr",
     "output_type": "stream",
     "text": [
      "C:\\Users\\ibiyt\\Anaconda3\\lib\\site-packages\\sklearn\\utils\\validation.py:578: DataConversionWarning: A column-vector y was passed when a 1d array was expected. Please change the shape of y to (n_samples, ), for example using ravel().\n",
      "  y = column_or_1d(y, warn=True)\n"
     ]
    },
    {
     "data": {
      "text/plain": [
       "0.0"
      ]
     },
     "execution_count": 8,
     "metadata": {},
     "output_type": "execute_result"
    }
   ],
   "source": [
    "model = SVC(kernel='linear',)\n",
    "model = model.fit(X_trn_data1,Y_trn_data1)\n",
    "print(model)\n",
    "y_pred=model.predict(X_tst_data1)\n",
    "classificationError(y_pred,Y_tst_data1)"
   ]
  },
  {
   "cell_type": "code",
   "execution_count": 9,
   "metadata": {},
   "outputs": [
    {
     "name": "stderr",
     "output_type": "stream",
     "text": [
      "C:\\Users\\ibiyt\\Anaconda3\\lib\\site-packages\\sklearn\\utils\\validation.py:578: DataConversionWarning: A column-vector y was passed when a 1d array was expected. Please change the shape of y to (n_samples, ), for example using ravel().\n",
      "  y = column_or_1d(y, warn=True)\n"
     ]
    },
    {
     "name": "stdout",
     "output_type": "stream",
     "text": [
      "1\n",
      "2\n",
      "3\n"
     ]
    },
    {
     "data": {
      "image/png": "[encoded data removed]",
      "text/plain": [
       "<matplotlib.figure.Figure at 0x1e146681f28>"
      ]
     },
     "metadata": {},
     "output_type": "display_data"
    }
   ],
   "source": [
    "effectOfC_RealSVM(X_trn_data1,Y_trn_data1,X_tst_data1,Y_tst_data1,[1,2,3])"
   ]
  },
  {
   "cell_type": "code",
   "execution_count": 10,
   "metadata": {},
   "outputs": [
    {
     "name": "stdout",
     "output_type": "stream",
     "text": [
      "1\n",
      "2\n",
      "3\n"
     ]
    },
    {
     "data": {
      "image/png": "[encoded data removed]",
      "text/plain": [
       "<matplotlib.figure.Figure at 0x1e1486f9fd0>"
      ]
     },
     "metadata": {},
     "output_type": "display_data"
    }
   ],
   "source": [
    "effectOfC(X_trn_data1,Y_trn_data1,X_tst_data1,Y_tst_data1,[1,2,3])"
   ]
  },
  {
   "cell_type": "markdown",
   "metadata": {},
   "source": [
    "### Dataset 2"
   ]
  },
  {
   "cell_type": "code",
   "execution_count": 11,
   "metadata": {},
   "outputs": [
    {
     "name": "stderr",
     "output_type": "stream",
     "text": [
      "C:\\Users\\ibiyt\\Anaconda3\\lib\\site-packages\\sklearn\\utils\\validation.py:578: DataConversionWarning: A column-vector y was passed when a 1d array was expected. Please change the shape of y to (n_samples, ), for example using ravel().\n",
      "  y = column_or_1d(y, warn=True)\n"
     ]
    },
    {
     "name": "stdout",
     "output_type": "stream",
     "text": [
      "1\n",
      "2\n",
      "3\n"
     ]
    },
    {
     "data": {
      "image/png": "[encoded data removed]",
      "text/plain": [
       "<matplotlib.figure.Figure at 0x1e149848c50>"
      ]
     },
     "metadata": {},
     "output_type": "display_data"
    }
   ],
   "source": [
    "effectOfC_RealSVM(X_trn_data2,Y_trn_data2,X_tst_data2,Y_tst_data2,[1,2,3])"
   ]
  },
  {
   "cell_type": "code",
   "execution_count": null,
   "metadata": {},
   "outputs": [],
   "source": [
    "effectOfC(X_trn_data2,Y_trn_data2,X_tst_data2,Y_tst_data2,[1,2,3])"
   ]
  },
  {
   "cell_type": "markdown",
   "metadata": {},
   "source": [
    "What we see for both A and B, the test classification error is constant (for A it was 0.0 and for B is was roughly 0.072.) For part A the training classification error remains constant at C=1 and 2 and then drops at C=3; whereas, in part B there is a drop in error from C=1 and C=2 and then it remains constant from C=2 to C=3. \n",
    "\n",
    "It seems that there a few data points that might be classified as one group but they are close to the optimal hyperplane and are being incorrectly classified in part B. We see this due to the low classification error, whereas in part A, the data is perfectly seperated in the test set.\n",
    "\n",
    "It seemed that in the actual implementation of SVM the affect of C had little affect on the training error."
   ]
  }
 ],
 "metadata": {
  "kernelspec": {
   "display_name": "Python 3",
   "language": "python",
   "name": "python3"
  },
  "language_info": {
   "codemirror_mode": {
    "name": "ipython",
    "version": 3
   },
   "file_extension": ".py",
   "mimetype": "text/x-python",
   "name": "python",
   "nbconvert_exporter": "python",
   "pygments_lexer": "ipython3",
   "version": "3.6.3"
  }
 },
 "nbformat": 4,
 "nbformat_minor": 2
}
