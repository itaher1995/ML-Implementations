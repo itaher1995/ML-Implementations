{
 "cells": [
  {
   "cell_type": "code",
   "execution_count": 814,
   "metadata": {},
   "outputs": [],
   "source": [
    "import numpy as np\n",
    "from scipy.io import loadmat\n",
    "from sklearn.neural_network import MLPClassifier\n",
    "from sklearn.preprocessing import scale\n",
    "import matplotlib.pyplot as plt\n",
    "%matplotlib inline"
   ]
  },
  {
   "cell_type": "code",
   "execution_count": 3,
   "metadata": {
    "collapsed": true
   },
   "outputs": [],
   "source": [
    "_,_,_,X_tst, X_trn, X_val, Y_tst, Y_trn, Y_val = loadmat('dataset.mat').values()"
   ]
  },
  {
   "cell_type": "code",
   "execution_count": 73,
   "metadata": {},
   "outputs": [
    {
     "data": {
      "text/plain": [
       "(2, 200)"
      ]
     },
     "execution_count": 73,
     "metadata": {},
     "output_type": "execute_result"
    }
   ],
   "source": [
    "X_trn.shape"
   ]
  },
  {
   "cell_type": "markdown",
   "metadata": {},
   "source": [
    "**Question 1:** Based on the above output, the number of input neurons for the feedforward neural network should be 2, one for each input. The number of output layers is 1 if you use a sigmoid activation function for the last layer."
   ]
  },
  {
   "cell_type": "markdown",
   "metadata": {},
   "source": [
    "## MultiLayer Perceptron"
   ]
  },
  {
   "cell_type": "code",
   "execution_count": 782,
   "metadata": {},
   "outputs": [],
   "source": [
    "class FeedForwardNeuralNetwork():\n",
    "    def __init__(self):\n",
    "        return None\n",
    "    def __ACTIVATION__(self,z_i,activation='ReLU'):\n",
    "        '''\n",
    "        Function for implementing activation function. For the purposes of this program the following\n",
    "        activation functions will be used:\n",
    "        \n",
    "        sigmoid: y = 1/(1 + e^-z)\n",
    "        tanh: y= (e^z - e^-z)/(e^z + e^-z)\n",
    "        ReLU: y=max(0,z_i)\n",
    "        \n",
    "        This code is important for the forward propogation aspect of this algorithm.\n",
    "        '''\n",
    "        if activation == \"sigmoid\":\n",
    "            a_i = 1/(1+np.exp(z_i))\n",
    "        elif activation == \"softmax\":\n",
    "            a_i = np.exp(z_i)/float(np.sum(np.exp(z_i)))\n",
    "        elif activation == \"tanh\":\n",
    "            a_i = (np.exp(z_i)-np.exp(-z_i))/(np.exp(z_i)+np.exp(-z_i))\n",
    "        else:\n",
    "            a_i = np.maximum(z_i,0)\n",
    "        return a_i\n",
    "\n",
    "    def __FORWARDPROPOGATION__(self,W,b,X,n=3):\n",
    "        '''\n",
    "        Initialize a = X\n",
    "        for (i in 1:n-2)\n",
    "        z_i <- W_i-1*a_i-1 + b_i-1\n",
    "        a_i <- f(z_i)\n",
    "        \n",
    "        return a_i\n",
    "        '''\n",
    "\n",
    "        actArray=[]\n",
    "        a = X #for input layer a[0] = z[0] = X\n",
    "        actArray.append(a)\n",
    "        for i in range(1,n-1): #shallow network so this should only iterate once. \n",
    "            z_i = np.dot(W[i],a) + b[i] #input into the activation function\n",
    "            a = self.__ACTIVATION__(z_i) #default is ReLU(z_i)\n",
    "            actArray.append(a)\n",
    "        return actArray\n",
    "    \n",
    "    def __DERIVATIVE__(self,output,activation):\n",
    "        '''\n",
    "        Calculates the derivative for the following functions:\n",
    "        \n",
    "        sigmoid\n",
    "        tanh\n",
    "        ReLU\n",
    "        '''\n",
    "        if activation == 'sigmoid':\n",
    "            derivative = output * (1.0-output)\n",
    "        elif activation == 'ReLU':\n",
    "            derivative = (output>0)*1\n",
    "        else:\n",
    "            derivative=1-output**2\n",
    "        return derivative\n",
    "    def __BACKPROPOGATION__(self,X,Y,output,weights,biases,alpha,m,lambda_,n):\n",
    "        '''\n",
    "        Implementation of backpropogation algorithm.\n",
    "        '''\n",
    "    \n",
    "        \n",
    "        # delta to change the weights \n",
    "        delta_W = {i:np.zeros(weights[i].shape) for i in range(1,n)}\n",
    "        delta_b = {i:np.zeros(biases[i].shape) for i in range(1,n)}    \n",
    "        \n",
    "        error = output[-1]-Y\n",
    "        delta3=error*self.__DERIVATIVE__(output[-1],\"sigmoid\")#element-wise d3 = e - f'(z_i)\n",
    "        \n",
    "        #Hidden Layer\n",
    "        dJdwHidden = np.dot(delta3,output[1].T)#dJ/dW2 = <d3,dz2>\n",
    "        delta_W[2] = delta_W[2] + dJdwHidden\n",
    "        delta_b[2] = np.sum(delta3)\n",
    "        weights[2] = weights[2] - alpha*((1/m)*delta_W[2] + lambda_*weights[2])\n",
    "        biases[2] = biases[2] - alpha*((1/m)*delta_b[2])\n",
    "        \n",
    "        #Input Layer\n",
    "        delta2=np.multiply(error,self.__DERIVATIVE__(output[1],\"RELU\"))\n",
    "        dJdwHidden = np.dot(delta2,output[0].T)\n",
    "        delta_W[1] = delta_W[1] + dJdwHidden\n",
    "        delta_b[1] = np.sum(delta2)\n",
    "        weights[1] = weights[1] - alpha*((1/m)*delta_W[1] + lambda_*weights[1])\n",
    "        biases[1] = biases[1] - alpha*((1/m)*delta_b[1])\n",
    "        \n",
    "        return weights,biases\n",
    "\n",
    "        \n",
    "    def train(self,X,Y,S_n,alpha,m,lambda_,num_iters,n=3):\n",
    "        '''\n",
    "        Training the feedforward neural network using the backpropogation algorithm.\n",
    "        '''      \n",
    "        X_copy=scale(X,axis=1)\n",
    "        \n",
    "        #random initialization of weights and biases from a normal distribution. To be updated during backprop\n",
    "        W={i:np.random.normal(0,0.01,(S_n[i],S_n[i-1])) for i in range(1,n)}\n",
    "        b={i:np.random.normal(0,0.01,(S_n[i],1)) for i in range(1,n)}\n",
    "\n",
    "        for i in range(num_iters): #use a finite set of iterations for now\n",
    "            output = self.__FORWARDPROPOGATION__(W,b,X_copy) #compiles but might be wrong\n",
    "            output.append(1/(1+np.exp(np.dot(W[n-1],output[-1])+b[n-1]))) #sigmoid activation function for output layer\n",
    "            W,b = self.__BACKPROPOGATION__(_,Y,output,W,b,alpha,m,lambda_,n)\n",
    "\n",
    "        return W,b\n",
    "    \n",
    "    def test(self,X,W,b,n=3):\n",
    "        X_copy=scale(X,axis=1)\n",
    "        output = self.__FORWARDPROPOGATION__(W,b,X_copy) #compiles but might be wrong\n",
    "        output.append(1/(1+np.exp(np.dot(W[n-1],output[-1])+b[n-1]))) #sigmoid activation function for output layer\n",
    "        return output[-1]\n",
    "        \n",
    "        \n",
    "    \n",
    "            \n",
    "        \n",
    "    \n",
    "    "
   ]
  },
  {
   "cell_type": "markdown",
   "metadata": {},
   "source": [
    "## Helper Functions"
   ]
  },
  {
   "cell_type": "code",
   "execution_count": 823,
   "metadata": {},
   "outputs": [],
   "source": [
    "def classificationError(y_pred,y_true):\n",
    "    '''\n",
    "    number wrong/total number of samples'''\n",
    "    wrong = 0\n",
    "    total = len(y_true)\n",
    "    for i in range(len(y_pred)):\n",
    "        if y_pred[i]!=y_true[i]:\n",
    "            wrong+=1\n",
    "    return wrong/total\n",
    "\n",
    "def bestLambda(lambdaList,numHidden):\n",
    "    bestE=1\n",
    "    for l in lambdaList:\n",
    "        for i in range(1000):\n",
    "            model = FeedForwardNeuralNetwork()\n",
    "            W,b = model.train(X=X_trn,Y=Y_trn,S_n=[2,numHidden,1],alpha=0.0001,m=1,lambda_=l,num_iters=100,n=3)\n",
    "            output = model.test(X_val,W,b)\n",
    "            output = np.where(output>0.5,1,0)\n",
    "            e=classificationError(output[0],Y_val[0])\n",
    "            if e<bestE:\n",
    "                bestLambda=l\n",
    "                bestE=e\n",
    "                bestW=W\n",
    "                bestb=b\n",
    "    print(f'The best lambda was {bestLambda} with a classification error of {bestE}')\n",
    "    return bestLambda, bestW, bestb\n",
    "\n",
    "def bestNN(lambdaList, hiddenList):\n",
    "    for n in [2,10]:\n",
    "        modelLambda, modelWeight, modelBias = bestLambda([1,1.5,2,2.5,3],n)\n",
    "        print(f\"weights for {n}:{modelWeight} \\n bias for {n}:{modelBias}\")\n",
    "        model = FeedForwardNeuralNetwork()\n",
    "        outputTrain = model.test(X_trn,W,b)\n",
    "        outputTrain = np.where(output>0.5,1,0)\n",
    "        eTrain = classificationError(output[0],Y_trn[0])\n",
    "\n",
    "        outputTest = model.test(X_tst,W,b)\n",
    "        outputTest = np.where(output>0.5,1,0)\n",
    "        eTest = classificationError(output[0],Y_tst[0])\n",
    "        print(f\"for n={n} the classification on the training data was {eTrain} and on the test set was {eTest}\")\n",
    "\n",
    "def plotClasses(X,Y):\n",
    "    x00 = [X[0][i] for i in range(len(X[0])) if Y[0][i]==0]\n",
    "    x01 = [X[0][i] for i in range(len(X[0])) if Y[0][i]==1]\n",
    "    x10 = [X[1][i] for i in range(len(X[0])) if Y[0][i]==0]\n",
    "    x11 = [X[1][i] for i in range(len(X[0])) if Y[0][i]==1]\n",
    "    \n",
    "    plt.scatter(x00,x10, marker='s',c='r')\n",
    "    plt.scatter(x01,x11,marker='o',c='b')\n",
    "    \n",
    "    plt.xlabel('Component 1')\n",
    "    plt.ylabel('Component 2')\n",
    "    "
   ]
  },
  {
   "cell_type": "markdown",
   "metadata": {},
   "source": [
    "## Part 2 and 3"
   ]
  },
  {
   "cell_type": "code",
   "execution_count": 813,
   "metadata": {},
   "outputs": [
    {
     "name": "stdout",
     "output_type": "stream",
     "text": [
      "The best lambda was 1 with a classification error of 0.25\n",
      "weights for 2:{1: array([[ 0.0137064 , -0.01655113],\n",
      "       [ 0.00585685, -0.00948039]]), 2: array([[-0.0234075 , -0.00500669]])} \n",
      " bias for 2:{1: array([[0.0023692 ],\n",
      "       [0.01709551]]), 2: array([[0.00058917]])}\n",
      "for n=2 the classification on the training data was 0.0 and on the test set was 0.16666666666666666\n",
      "The best lambda was 2 with a classification error of 0.0875\n",
      "weights for 10:{1: array([[ 0.01158871, -0.02220623],\n",
      "       [-0.00857389, -0.02079491],\n",
      "       [ 0.01985767, -0.0213294 ],\n",
      "       [ 0.01373495, -0.0302635 ],\n",
      "       [ 0.01186941, -0.02218892],\n",
      "       [ 0.01692276, -0.007281  ],\n",
      "       [ 0.02238533, -0.02596694],\n",
      "       [ 0.01572654, -0.00179527],\n",
      "       [ 0.00408027, -0.01642721],\n",
      "       [ 0.00043755, -0.00939175]]), 2: array([[-0.00729142,  0.01099659,  0.01109704,  0.0036223 , -0.01381038,\n",
      "         0.02285406, -0.00083967,  0.00148704, -0.01248456, -0.00510608]])} \n",
      " bias for 10:{1: array([[ 0.00809756],\n",
      "       [-0.00800585],\n",
      "       [ 0.0111352 ],\n",
      "       [-0.0054627 ],\n",
      "       [ 0.00133424],\n",
      "       [-0.0177636 ],\n",
      "       [-0.00907961],\n",
      "       [-0.00546324],\n",
      "       [-0.01086175],\n",
      "       [-0.00154447]]), 2: array([[-1.50319166e-05]])}\n",
      "for n=10 the classification on the training data was 0.0 and on the test set was 0.16666666666666666\n"
     ]
    }
   ],
   "source": [
    "bestNN([1,1.5,2,2.5,3],[2,10])"
   ]
  },
  {
   "cell_type": "markdown",
   "metadata": {},
   "source": [
    "## Plot"
   ]
  },
  {
   "cell_type": "code",
   "execution_count": 824,
   "metadata": {},
   "outputs": [
    {
     "data": {
      "image/png": "[encoded data removed]",
      "text/plain": [
       "<matplotlib.figure.Figure at 0x24f40204b38>"
      ]
     },
     "metadata": {},
     "output_type": "display_data"
    }
   ],
   "source": [
    "plotClasses(X_trn,Y_trn)"
   ]
  },
  {
   "cell_type": "markdown",
   "metadata": {},
   "source": [
    "**Question 4**: No the data is not linearly separable and both the models with $S_{n}$ = 2 and $S_{n}$=10 having low classification errors (0 for the training data.)"
   ]
  }
 ],
 "metadata": {
  "kernelspec": {
   "display_name": "Python 3",
   "language": "python",
   "name": "python3"
  },
  "language_info": {
   "codemirror_mode": {
    "name": "ipython",
    "version": 3
   },
   "file_extension": ".py",
   "mimetype": "text/x-python",
   "name": "python",
   "nbconvert_exporter": "python",
   "pygments_lexer": "ipython3",
   "version": "3.6.3"
  }
 },
 "nbformat": 4,
 "nbformat_minor": 2
}
